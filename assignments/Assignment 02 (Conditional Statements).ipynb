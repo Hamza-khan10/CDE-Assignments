{
 "cells": [
  {
   "cell_type": "markdown",
   "metadata": {},
   "source": [
    "1) A company decided to give bonus of 5% to employee if his/her year of service is more than 5 years.\n",
    "Ask user for their salary and year of service and print the net bonus amount."
   ]
  },
  {
   "cell_type": "code",
   "execution_count": 1,
   "metadata": {},
   "outputs": [
    {
     "name": "stdout",
     "output_type": "stream",
     "text": [
      "Congragulations you are approved for the 5% bonus\n",
      "5000.0\n"
     ]
    }
   ],
   "source": [
    "# To check if you are eligible for the 5% bonus:\n",
    "Employee_service_year = float(input(\"Enter the number of years of your service: \"))\n",
    "Employee_salary = int(input(\"Enter your salary: \"))\n",
    "if Employee_service_year >= 5:\n",
    "    bonus =Employee_salary * 0.05\n",
    "    print (\"Congragulations you are approved for the 5% bonus\")\n",
    "    print (bonus)\n",
    "else:\n",
    "    print (\"We are sorry to say that you are not eligible for the 5% bonus\")"
   ]
  },
  {
   "cell_type": "markdown",
   "metadata": {},
   "source": [
    "\n",
    "2) Write a program to check whether a person is eligible for voting or not. (accept age from user) if age is greater than 17 eligible otherwise not eligible"
   ]
  },
  {
   "cell_type": "code",
   "execution_count": null,
   "metadata": {},
   "outputs": [],
   "source": [
    "# To check if you are eligible for voting or not\n",
    "age= int(input(\"Enter your age:\"))\n",
    "if age >= 17:\n",
    "    print (\"Congragulations you are eligible for voting\" )\n",
    "else:\n",
    "    print (\"We are sorry you are not eligible for voting\" )"
   ]
  },
  {
   "cell_type": "markdown",
   "metadata": {},
   "source": [
    "\n",
    "3) Write a program to check whether a number entered by user is even or odd."
   ]
  },
  {
   "cell_type": "code",
   "execution_count": null,
   "metadata": {},
   "outputs": [],
   "source": [
    "# To check if the number entered by user is even or odd.\n",
    "Number = int(input(\"Enter any number\"))\n",
    "if Number % 2 == 0:\n",
    "    print(\"Your number is even\")\n",
    "else:\n",
    "    print (\"Your number is odd\")"
   ]
  },
  {
   "cell_type": "markdown",
   "metadata": {},
   "source": [
    "4) Write a program to check whether a number is divisible by 7 or not.\n",
    "Show Answer"
   ]
  },
  {
   "cell_type": "code",
   "execution_count": null,
   "metadata": {},
   "outputs": [],
   "source": [
    "# To check if the number entered by user is divisble by 7 or not.\n",
    "Number = int(input(\"Enter any number\"))\n",
    "if Number % 7 == 0:\n",
    "    print(\"Your number is divisble by 7\")\n",
    "else:\n",
    "    print (\"Your number is not divisble by 7\")"
   ]
  },
  {
   "cell_type": "markdown",
   "metadata": {},
   "source": [
    "5) Write a program to display \n",
    "\"Hello\" if a number entered by user is a multiple of five , otherwise print \"Bye\"."
   ]
  },
  {
   "cell_type": "code",
   "execution_count": null,
   "metadata": {},
   "outputs": [],
   "source": [
    "## To check if the number entered by user is divisble by 7 or not.\n",
    "Number = int(input(\"Enter any number\"))\n",
    "if Number % 5 == 0:\n",
    "    print(\"Hello\")\n",
    "else:\n",
    "    print (\"Bye\")"
   ]
  },
  {
   "cell_type": "markdown",
   "metadata": {},
   "source": [
    "7) Write a program to display the last digit of a number.\n"
   ]
  },
  {
   "cell_type": "code",
   "execution_count": null,
   "metadata": {},
   "outputs": [],
   "source": [
    "## To display the last digit of the number entered by user.\n",
    "Number = int(input(\"Enter any number\"))\n",
    "lastdigit = Number % 10\n",
    "print (lastdigit)"
   ]
  },
  {
   "cell_type": "markdown",
   "metadata": {},
   "source": [
    "9) Take values of length and breadth of a rectangle from user and print if it is square or rectangle."
   ]
  },
  {
   "cell_type": "code",
   "execution_count": null,
   "metadata": {},
   "outputs": [],
   "source": [
    "# To evaluate if the values made the square or rectangle.\n",
    "Length = float(input(\"Enter the length\"))\n",
    "Breadth = float(input(\"Enter the breadth\"))\n",
    "if Length == Breadth:\n",
    "    print (\"It's a square.\")\n",
    "else:\n",
    "    print (\"It's a rectangle\")\n"
   ]
  },
  {
   "cell_type": "markdown",
   "metadata": {},
   "source": [
    "10) Take two int values from user and print greatest among them."
   ]
  },
  {
   "cell_type": "code",
   "execution_count": null,
   "metadata": {},
   "outputs": [],
   "source": [
    "# To print the greatest value given by user.\n",
    "value_1 = int(input(\"Enter any number:\"))\n",
    "value_2 = int(input(\"Enter any number:\"))\n",
    "if value_1 > value_2:\n",
    "    print (\"value 1 is greater\")\n",
    "elif value_1 == value_2:\n",
    "    print(\"Both values are equal\")\n",
    "else:\n",
    "    print (\"value 2 is greater\")\n"
   ]
  },
  {
   "cell_type": "markdown",
   "metadata": {},
   "source": [
    "11) A shop will give discount of 10% if the cost of purchased quantity is more than 1000.\n",
    "Ask user for quantity\n",
    "Suppose, one unit will cost 100.\n",
    "Judge and print total cost for user."
   ]
  },
  {
   "cell_type": "code",
   "execution_count": null,
   "metadata": {},
   "outputs": [],
   "source": [
    "# To calculate if customer is able to get 10% discount.\n",
    "Total_unit= int(input(\"Enter the quantity you have purchased\"))\n",
    "One_unit = 100\n",
    "if Total_unit >= 1000:\n",
    "    discount = Total_unit * 0.10\n",
    "    Total_cost = Total_unit - discount\n",
    "    print(\"Total cost after 10% discount is: \" , Total_cost)\n",
    "else:\n",
    "    print(\"You are not eligbile for 10% discount.\")"
   ]
  },
  {
   "cell_type": "markdown",
   "metadata": {},
   "source": [
    "12) A school has following rules for grading system:\n",
    "\n",
    "a. Below 25 - F\n",
    "\n",
    "b. 25 to 45 - E\n",
    "\n",
    "c. 45 to 50 - D\n",
    "\n",
    "d. 50 to 60 - C\n",
    "\n",
    "e. 60 to 80 - B\n",
    "\n",
    "f. Above 80 - A\n",
    "\n",
    "Ask user to enter marks and print the corresponding grade."
   ]
  },
  {
   "cell_type": "code",
   "execution_count": null,
   "metadata": {},
   "outputs": [],
   "source": [
    "#To calculate the Grades.\n",
    "Marks = int(input(\"Enter your marks:\"))\n",
    "if Marks > 0 and Marks < 25:\n",
    "    print(\"Your Grade is F\")\n",
    "elif Marks >= 25 and Marks < 45:\n",
    "    print(\"Your Grade is E\")\n",
    "elif Marks >= 45 and Marks < 50:\n",
    "    print(\"Your Grade is D\")\n",
    "elif Marks >= 50 and Marks < 60:\n",
    "    print(\"Your Grade is C\")\n",
    "elif Marks >= 60 and Marks < 80:\n",
    "    print(\"Your Grade is B\")\n",
    "elif Marks > 80 and Marks <= 100:\n",
    "    print(\"Your Grade is A\")\n",
    "else:\n",
    "     print(\"Enter a valid number (0-100)\")"
   ]
  },
  {
   "cell_type": "markdown",
   "metadata": {},
   "source": [
    "14)A student will not be allowed to sit in exam if his/her attendence is less than 75%.\n",
    "\n",
    "Take following input from user\n",
    "\n",
    "Number of classes held\n",
    "\n",
    "Number of classes attended.\n",
    "\n",
    "And print\n",
    "\n",
    "percentage of class attended\n",
    "\n",
    "Is student is allowed to sit in exam or not.\n"
   ]
  },
  {
   "cell_type": "code",
   "execution_count": null,
   "metadata": {},
   "outputs": [],
   "source": [
    "#To determine if student is allowed to sit in exam or not.\n",
    "Classes_held = int(input(\"Enter the number of classes held\"))\n",
    "Classes_attend = int(input(\"Enter the number of classes you attend\"))\n",
    "Attendance = Classes_attend / Classes_held * 100\n",
    "print (Attendance)\n",
    "if Attendance >= 75:\n",
    "    print (\"You are allowed to sit in exam.\")\n",
    "else:\n",
    "    print(\"You are Not allowed to sit in exam.\")\n"
   ]
  },
  {
   "cell_type": "markdown",
   "metadata": {},
   "source": [
    "15) Modify the above question to allow student to sit if he/she has medical cause. Ask user if he/she has medical cause or not ( 'Y' or 'N' ) and print accordingly."
   ]
  },
  {
   "cell_type": "code",
   "execution_count": null,
   "metadata": {},
   "outputs": [],
   "source": [
    "Classes_held = int(input(\"Enter the number of classes held\"))\n",
    "Classes_attend = int(input(\"Enter the number of classes you attend\"))\n",
    "Attendance = Classes_attend / Classes_held * 100\n",
    "print (Attendance)\n",
    "if Attendance >= 75:\n",
    "    print (\"You are allowed to sit in exam.\")\n",
    "else:\n",
    "    Medical_cause = str(input(\"Do you have any Medical cause: (Y/N)\"))\n",
    "    if Medical_cause == 'Y' and Medical_cause == 'y':\n",
    "        print (\"You are allowed to sit in exam becasue you have a medical cause.\")\n",
    "    else:\n",
    "        print (\"You are not allowed to sit in exam\")"
   ]
  },
  {
   "cell_type": "markdown",
   "metadata": {},
   "source": [
    "16) Write a program to check if a year is leap year or not.\n",
    "\n",
    "If a year is divisible by 4 then it is leap year but if the year is century year like 2000, 1900, 2100 then it must be divisible by 400."
   ]
  },
  {
   "cell_type": "code",
   "execution_count": null,
   "metadata": {},
   "outputs": [],
   "source": [
    "#TO check if the Year entered by user is a leap year or not.\n",
    "year = int(input(\"Enter a year: \"))\n",
    "is_century = (year % 100 == 0)\n",
    "is_leap = (year % 400 == 0) or (year % 100 != 0 and year % 4 == 0)\n",
    "\n",
    "if is_century:\n",
    "    if is_leap:\n",
    "        print(f\"{year} is a century year and a leap year.\")\n",
    "    else:\n",
    "        print(f\"{year} is a century year but NOT a leap year.\")\n",
    "else:\n",
    "    if is_leap:\n",
    "        print(f\"{year} is a leap year.\")\n",
    "    else:\n",
    "        print(f\"{year} is NOT a leap year.\")\n",
    "  "
   ]
  },
  {
   "cell_type": "markdown",
   "metadata": {},
   "source": [
    "17) Ask user to enter age, gender ( M or F ), marital status ( Y or N ) and then using following rules print their place of service.\n",
    "\n",
    "if employee is female, then she will work only in urban areas.\n",
    "\n",
    "if employee is a male and age is in between 20 to 40 then he may work in anywhere\n",
    "\n",
    "if employee is male and age is in between 40 t0 60 then he will work in urban areas only.\n",
    "\n",
    "And any other input of age should print \"ERROR\""
   ]
  },
  {
   "cell_type": "code",
   "execution_count": null,
   "metadata": {},
   "outputs": [],
   "source": [
    "age = int(input(\"Enter your age:\"))\n",
    "gender = str(input(\"Enter your gender(M or F):\"))\n",
    "marital_status = str(input(\"Enter your marital status(Y or N):\"))\n",
    "if gender == 'F':\n",
    "    print (\"You can work only in urban areas.\")\n",
    "elif gender == 'M' and age >= 20 and age <= 40:\n",
    "    print (\"You can work anywhere.\")\n",
    "elif gender == 'M' and age >= 40 and age <= 60:\n",
    "    print(\"You can work only in urban areas.\")\n",
    "else:\n",
    "    print(\"Error\")\n"
   ]
  },
  {
   "cell_type": "markdown",
   "metadata": {},
   "source": [
    "6) Write a program to calculate the electricity bill (accept number of unit from user) according to the following criteria :\n",
    "     Unit                                                     Price  \n",
    "uptp 100 units                                             no charge\n",
    "Next 200 units                                              Rs 5 per unit\n",
    "After 200 units                                             Rs 10 per unit\n",
    "(For example if input unit is 350 than total bill amount is Rs.3500\n",
    "(For example if input unit is 97 than total bill amount is Rs.0\n",
    "(For example if input unit is 150 than total bill amount is Rs.750"
   ]
  },
  {
   "cell_type": "code",
   "execution_count": null,
   "metadata": {},
   "outputs": [],
   "source": [
    "units = int(input(\"Enter number of units: \"))\n",
    "\n",
    "if units <= 100:\n",
    "    bill = 0\n",
    "elif units <= 200:\n",
    "    bill = units * 5\n",
    "else:\n",
    "    bill = units * 10\n",
    "\n",
    "print(\"Rs.:\",bill)"
   ]
  },
  {
   "cell_type": "markdown",
   "metadata": {},
   "source": [
    "13) Take input of age of 3 people by user and determine oldest and youngest among them."
   ]
  },
  {
   "cell_type": "code",
   "execution_count": null,
   "metadata": {},
   "outputs": [],
   "source": [
    "age_1 = int(input(\"Enter First person age\"))\n",
    "age_2 = int(input(\"Enter your Second person age\"))\n",
    "age_3 = int(input(\"Enter your Third person age\"))\n",
    "\n",
    "if age_1 > age_2  and age_1 > age_3:\n",
    "    oldest = age_1\n",
    "elif age_2 > age_1 and age_2  > age_3:\n",
    "    oldest = age_2 \n",
    "else:\n",
    "    oldest = age_3\n",
    "\n",
    "if age_1 < age_2 and age_1 < age_3:\n",
    "    youngest = 1\n",
    "elif age_2  < age_1 and age_2  < age_3:\n",
    "    youngest = age_2 \n",
    "else:\n",
    "    youngest = age_3\n",
    "\n",
    "print(\"The oldest person is\", oldest, \"years old.\")\n",
    "print(\"The youngest person is\", youngest, \"years old.\")\n",
    "\n"
   ]
  }
 ],
 "metadata": {
  "kernelspec": {
   "display_name": "Python 3",
   "language": "python",
   "name": "python3"
  },
  "language_info": {
   "codemirror_mode": {
    "name": "ipython",
    "version": 3
   },
   "file_extension": ".py",
   "mimetype": "text/x-python",
   "name": "python",
   "nbconvert_exporter": "python",
   "pygments_lexer": "ipython3",
   "version": "3.13.2"
  }
 },
 "nbformat": 4,
 "nbformat_minor": 2
}
