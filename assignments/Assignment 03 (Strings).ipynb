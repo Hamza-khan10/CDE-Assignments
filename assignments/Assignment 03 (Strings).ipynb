{
 "cells": [
  {
   "cell_type": "markdown",
   "metadata": {},
   "source": [
    "1. Write a program that accepts a string from user. Your program should count and display number of\n",
    "vowels in that string. \n"
   ]
  },
  {
   "cell_type": "code",
   "execution_count": 2,
   "metadata": {},
   "outputs": [
    {
     "name": "stdout",
     "output_type": "stream",
     "text": [
      "Number of vowels: 2\n"
     ]
    }
   ],
   "source": [
    "Vowels = \"aeiouAEIOU\"\n",
    "Count_vowels = 0\n",
    "User_input = input(\"Enter a string: \")\n",
    "for letter in User_input:\n",
    "    if letter in Vowels:\n",
    "        Count_vowels += 1\n",
    "print(\"Number of vowels:\", Count_vowels)\n"
   ]
  },
  {
   "cell_type": "markdown",
   "metadata": {},
   "source": [
    "2. Write a program that reads a string from keyboard and display:\n",
    "* The number of uppercase letters in the string\n",
    "* The number of lowercase letters in the string\n",
    "* The number of digits in the string\n",
    "* The number of whitespace characters in the string "
   ]
  },
  {
   "cell_type": "code",
   "execution_count": null,
   "metadata": {},
   "outputs": [
    {
     "name": "stdout",
     "output_type": "stream",
     "text": [
      "Number of Uppercase letters = 1\n",
      "Number of lowercase letters = 16\n",
      "Number of Digits = 3\n",
      "Number of whitespace character = 6\n"
     ]
    }
   ],
   "source": [
    "User_input = input('Enter a string:')\n",
    "upper_case = 0\n",
    "lower_Case = 0\n",
    "digit = 0\n",
    "whitespace =0\n",
    "for (i) in range(len(User_input)):\n",
    "    if User_input[i].isupper():\n",
    "        upper_case += 1\n",
    "    elif User_input[i].islower():\n",
    "        lower_Case += 1\n",
    "    elif User_input[i].isdigit():\n",
    "        digit += 1\n",
    "    elif User_input[i].isspace():\n",
    "        whitespace += 1\n",
    "    \n",
    "print('Number of Uppercase letters =', upper_case)\n",
    "print('Number of lowercase letters =',lower_Case)\n",
    "print('Number of Digits =', digit)\n",
    "print('Number of whitespace character =', whitespace)"
   ]
  },
  {
   "cell_type": "markdown",
   "metadata": {},
   "source": [
    "3. Write a Python program that accepts a string from user. Your program should create and display a\n",
    "new string where the first and last characters have been exchanged. \n",
    "For example if the user enters the string 'HELLO' then new string would be 'OELLH' "
   ]
  },
  {
   "cell_type": "code",
   "execution_count": null,
   "metadata": {},
   "outputs": [
    {
     "name": "stdout",
     "output_type": "stream",
     "text": [
      "Swapped string: aamzh\n"
     ]
    }
   ],
   "source": [
    "string_1 = input('Enter a string:')\n",
    "if len(string_1) > 1:\n",
    "    swapped_string = string_1[-1] + string_1[1:-1] + string_1[0]\n",
    "\n",
    "print(\"Swapped string:\", swapped_string)\n"
   ]
  },
  {
   "cell_type": "markdown",
   "metadata": {},
   "source": [
    "4. Write a Python program that accepts a string from user. Your program should create a new string in\n",
    "reverse of first string and display it.\n",
    "For example if the user enters the string 'EXAM' then new string would be 'MAXE' \n"
   ]
  },
  {
   "cell_type": "code",
   "execution_count": null,
   "metadata": {},
   "outputs": [
    {
     "name": "stdout",
     "output_type": "stream",
     "text": [
      "The Reversed string: uoy era woh\n"
     ]
    }
   ],
   "source": [
    "string = input('Enter a string')\n",
    "reversed_string = string[::-1]\n",
    "print('The Reversed string:', reversed_string)"
   ]
  },
  {
   "cell_type": "markdown",
   "metadata": {},
   "source": [
    "5. Write a Python program that accepts a string from user. Your program should create a new string by\n",
    "shifting one position to left.\n",
    "For example if the user enters the string 'examination 2021' then new string would be 'xamination 2021e' \n"
   ]
  },
  {
   "cell_type": "code",
   "execution_count": null,
   "metadata": {},
   "outputs": [
    {
     "name": "stdout",
     "output_type": "stream",
     "text": [
      "First letter is shifted in the end: xamination 2021e\n"
     ]
    }
   ],
   "source": [
    "string = input('Enter a string')\n",
    "Shifting_string = string[1:] + string[0]\n",
    "print(\"First letter is shifted in the end:\", Shifting_string)"
   ]
  },
  {
   "cell_type": "markdown",
   "metadata": {},
   "source": [
    "6. Write a program that asks the user to input his name and print its initials. Assuming that the user\n",
    "always types first name, middle name and last name and does not include any unnecessary spaces.\n",
    "For example, if the user enters Ajay Kumar Garg the program should display A. K. G. Note:Don't use split() method \n"
   ]
  },
  {
   "cell_type": "code",
   "execution_count": null,
   "metadata": {},
   "outputs": [
    {
     "name": "stdout",
     "output_type": "stream",
     "text": [
      "Your name initials is: M.H.K\n"
     ]
    }
   ],
   "source": [
    "first_name = input('Enter Your first name:')\n",
    "middle_name = input('Enter Your first name:')\n",
    "last_name = input('Enter Your first name:')\n",
    "intials = first_name[0] + \".\" + middle_name[0] + \".\" + last_name[0]\n",
    "print(\"Your name initials is:\", intials)"
   ]
  },
  {
   "cell_type": "markdown",
   "metadata": {},
   "source": [
    "7. A palindrome is a string that reads the same backward as forward. For example, the words dad,\n",
    "madam and radar are all palindromes. Write a programs that determines whether the string is a\n",
    "palindrome.\n",
    "Note: do not use reverse() method "
   ]
  },
  {
   "cell_type": "code",
   "execution_count": null,
   "metadata": {},
   "outputs": [
    {
     "name": "stdout",
     "output_type": "stream",
     "text": [
      "The string is not a palindrome.\n"
     ]
    }
   ],
   "source": [
    "string = input(\"Enter a string: \")\n",
    "palindrome = string.replace(\" \", \"\").lower()\n",
    "is_palindrome = True\n",
    "length = len(string)\n",
    "\n",
    "for i in range(length // 2):\n",
    "    if palindrome[i] != string[length - i - 1]:\n",
    "        is_palindrome = False\n",
    "        break\n",
    "if is_palindrome:\n",
    "    print(\"The string is a palindrome.\")\n",
    "else:\n",
    "    print(\"The string is not a palindrome.\")\n"
   ]
  },
  {
   "cell_type": "markdown",
   "metadata": {},
   "source": [
    "8. Write a program that display following output:\n",
    "SHIFT\n",
    "HIFTS\n",
    "IFTSH\n",
    "FTSHI\n",
    "TSHIF\n",
    "SHIFT \n"
   ]
  },
  {
   "cell_type": "code",
   "execution_count": 30,
   "metadata": {},
   "outputs": [
    {
     "name": "stdout",
     "output_type": "stream",
     "text": [
      "SHIFT\n",
      "HIFTS\n",
      "IFTSH\n",
      "FTSHI\n",
      "TSHIF\n"
     ]
    }
   ],
   "source": [
    "output = \"SHIFT\"\n",
    "for i in range(len(output)):\n",
    "    print(output[i:] + output[:i])"
   ]
  },
  {
   "cell_type": "markdown",
   "metadata": {},
   "source": [
    "9. Write a program in python that accepts a string to setup a passwords. Your entered password must\n",
    "meet the following requirements: \n",
    "- The password must be at least eight characters long.\n",
    "- It must contain at least one uppercase letter.\n",
    "- It must contain at least one lowercase letter.\n",
    "- It must contain at least one numeric digit.\n",
    "- Your program should should perform this validation. "
   ]
  },
  {
   "cell_type": "code",
   "execution_count": null,
   "metadata": {},
   "outputs": [
    {
     "name": "stdout",
     "output_type": "stream",
     "text": [
      "Password is invalid. It must contain at least one uppercase letter, one lowercase letter, and one numeric digit.\n"
     ]
    }
   ],
   "source": [
    "password = input(\"Enter your password: \")\n",
    "\n",
    "upper_case = lower_case = digit = False\n",
    "\n",
    "if len(password) >= 8:\n",
    "    for i in range(len(password)):\n",
    "        if password[i].isupper():\n",
    "            upper_case = True\n",
    "        if password[i].islower():\n",
    "            lower_case = True\n",
    "        if password[i].isdigit():\n",
    "            digit = True\n",
    "    \n",
    "    if upper_case and lower_case and digit:\n",
    "        print(\"Password is valid.\")\n",
    "    else:\n",
    "        print(\"Password is invalid. It must be at least 8 characters\")\n",
    "else:\n",
    "    print(\"Password is invalid. It must be at least 8 characters.\")\n"
   ]
  }
 ],
 "metadata": {
  "kernelspec": {
   "display_name": "base",
   "language": "python",
   "name": "python3"
  },
  "language_info": {
   "codemirror_mode": {
    "name": "ipython",
    "version": 3
   },
   "file_extension": ".py",
   "mimetype": "text/x-python",
   "name": "python",
   "nbconvert_exporter": "python",
   "pygments_lexer": "ipython3",
   "version": "3.12.7"
  }
 },
 "nbformat": 4,
 "nbformat_minor": 2
}
