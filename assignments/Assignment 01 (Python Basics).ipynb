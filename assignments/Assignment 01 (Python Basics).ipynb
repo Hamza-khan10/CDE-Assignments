{
 "cells": [
  {
   "cell_type": "markdown",
   "metadata": {},
   "source": [
    "# Part -1 Python Basics (Variables)"
   ]
  },
  {
   "cell_type": "markdown",
   "metadata": {},
   "source": [
    "1. Print Your Name with your Father name and Date of birth using suitable escape sequence charactor"
   ]
  },
  {
   "cell_type": "code",
   "execution_count": 3,
   "metadata": {},
   "outputs": [
    {
     "name": "stdout",
     "output_type": "stream",
     "text": [
      "Name : Muhammad Hamza khan\n",
      "Father Name : Muhammad Yaseen khan\n",
      "DOB : 10/5/2002\n"
     ]
    }
   ],
   "source": [
    "print (\"Name : Muhammad Hamza khan\\nFather Name : Muhammad Yaseen khan\\nDOB : 10/5/2002\")"
   ]
  },
  {
   "cell_type": "markdown",
   "metadata": {},
   "source": [
    "2. Write your small bio using variables and print it using print function"
   ]
  },
  {
   "cell_type": "code",
   "execution_count": null,
   "metadata": {},
   "outputs": [],
   "source": [
    "Small_bio = \"I'm currently studying in Virtual university and attending this course to grow my skills and better future.\"\n",
    "print (Small_bio)."
   ]
  },
  {
   "cell_type": "markdown",
   "metadata": {},
   "source": [
    "3. Write a program in which use all the operators we can use in Python"
   ]
  },
  {
   "cell_type": "code",
   "execution_count": null,
   "metadata": {},
   "outputs": [],
   "source": [
    "#  Arithmetic Operators\n",
    "a = 15\n",
    "b = 9\n",
    "print(\"Subtraction:\", a - b)       \n",
    "print(\"Adition:\", a + b)    \n",
    "print(\"Division:\", a / b) \n",
    "print(\"Multiplication:\", a * b)       \n",
    "print(\"Modulus:\", a % b) \n",
    "print(\"Floor division:\", a // b)        \n",
    "print(\"Exponentiation:\", a ** b) \n",
    "\n",
    "#   Comparison Operators\n",
    "print(\"Equal:\", a == b)        \n",
    "print(\"Not Equal:\", a != b)    \n",
    "print(\"Greater Than:\", a > b)  \n",
    "print(\"Less Than:\", a < b)     \n",
    "print(\"Greater or Equal:\", a >= b)\n",
    "print(\"Less or Equal:\", a <= b)  "
   ]
  },
  {
   "cell_type": "markdown",
   "metadata": {},
   "source": [
    "4. Completes the following steps of small task:\n",
    "    - Mention Marks of English , Islamiat and Maths out of 100 in 3 different variables\n",
    "    - Mention Variable of Total Marks and assign 300 to it\n",
    "    - Calculate Percentage"
   ]
  },
  {
   "cell_type": "code",
   "execution_count": null,
   "metadata": {},
   "outputs": [],
   "source": [
    "English_marks = 70\n",
    "Islamiat_marks = 85\n",
    "Maths_marks = 75\n",
    "obtain_marks = (English_marks + Islamiat_marks + Maths_marks) \n",
    "print (obtain_marks)\n",
    "Total_marks = 300\n",
    "percentage = (obtain_marks/Total_marks * 100)\n",
    "print (percentage)"
   ]
  }
 ],
 "metadata": {
  "kernelspec": {
   "display_name": "Python 3",
   "language": "python",
   "name": "python3"
  },
  "language_info": {
   "codemirror_mode": {
    "name": "ipython",
    "version": 3
   },
   "file_extension": ".py",
   "mimetype": "text/x-python",
   "name": "python",
   "nbconvert_exporter": "python",
   "pygments_lexer": "ipython3",
   "version": "3.13.2"
  }
 },
 "nbformat": 4,
 "nbformat_minor": 2
}
